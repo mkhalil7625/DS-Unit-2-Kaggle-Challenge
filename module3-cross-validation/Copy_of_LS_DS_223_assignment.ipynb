{
  "nbformat": 4,
  "nbformat_minor": 0,
  "metadata": {
    "kernelspec": {
      "display_name": "Python 3",
      "language": "python",
      "name": "python3"
    },
    "language_info": {
      "codemirror_mode": {
        "name": "ipython",
        "version": 3
      },
      "file_extension": ".py",
      "mimetype": "text/x-python",
      "name": "python",
      "nbconvert_exporter": "python",
      "pygments_lexer": "ipython3",
      "version": "3.7.6"
    },
    "colab": {
      "name": "Copy of LS_DS_223_assignment.ipynb",
      "provenance": [],
      "toc_visible": true,
      "include_colab_link": true
    }
  },
  "cells": [
    {
      "cell_type": "markdown",
      "metadata": {
        "id": "view-in-github",
        "colab_type": "text"
      },
      "source": [
        "<a href=\"https://colab.research.google.com/github/mkhalil7625/DS-Unit-2-Kaggle-Challenge/blob/master/module3-cross-validation/Copy_of_LS_DS_223_assignment.ipynb\" target=\"_parent\"><img src=\"https://colab.research.google.com/assets/colab-badge.svg\" alt=\"Open In Colab\"/></a>"
      ]
    },
    {
      "cell_type": "markdown",
      "metadata": {
        "id": "fvo3lNwvurqx",
        "colab_type": "text"
      },
      "source": [
        "Lambda School Data Science\n",
        "\n",
        "*Unit 2, Sprint 2, Module 3*\n",
        "\n",
        "---"
      ]
    },
    {
      "cell_type": "markdown",
      "metadata": {
        "id": "-kzMIl3Qurqy",
        "colab_type": "text"
      },
      "source": [
        "# Cross-Validation\n",
        "\n",
        "\n",
        "## Assignment\n",
        "- [ ] [Review requirements for your portfolio project](https://lambdaschool.github.io/ds/unit2), then submit your dataset.\n",
        "- [ ] Continue to participate in our Kaggle challenge. \n",
        "- [ ] Use scikit-learn for hyperparameter optimization with RandomizedSearchCV.\n",
        "- [ ] Submit your predictions to our Kaggle competition. (Go to our Kaggle InClass competition webpage. Use the blue **Submit Predictions** button to upload your CSV file. Or you can use the Kaggle API to submit your predictions.)\n",
        "- [ ] Commit your notebook to your fork of the GitHub repo.\n",
        "\n",
        "\n",
        "**You can't just copy** from the lesson notebook to this assignment.\n",
        "\n",
        "- Because the lesson was **regression**, but the assignment is **classification.**\n",
        "- Because the lesson used [TargetEncoder](https://contrib.scikit-learn.org/categorical-encoding/targetencoder.html), which doesn't work as-is for _multi-class_ classification.\n",
        "\n",
        "So you will have to adapt the example, which is good real-world practice.\n",
        "\n",
        "1. Use a model for classification, such as [RandomForestClassifier](https://scikit-learn.org/stable/modules/generated/sklearn.ensemble.RandomForestClassifier.html)\n",
        "2. Use hyperparameters that match the classifier, such as `randomforestclassifier__ ...`\n",
        "3. Use a metric for classification, such as [`scoring='accuracy'`](https://scikit-learn.org/stable/modules/model_evaluation.html#common-cases-predefined-values)\n",
        "4. If you’re doing a multi-class classification problem — such as whether a waterpump is functional, functional needs repair, or nonfunctional — then use a categorical encoding that works for multi-class classification, such as [OrdinalEncoder](https://contrib.scikit-learn.org/categorical-encoding/ordinal.html) (not [TargetEncoder](https://contrib.scikit-learn.org/categorical-encoding/targetencoder.html))\n",
        "\n",
        "\n",
        "\n",
        "## Stretch Goals\n",
        "\n",
        "### Reading\n",
        "- Jake VanderPlas, [Python Data Science Handbook, Chapter 5.3](https://jakevdp.github.io/PythonDataScienceHandbook/05.03-hyperparameters-and-model-validation.html), Hyperparameters and Model Validation\n",
        "- Jake VanderPlas, [Statistics for Hackers](https://speakerdeck.com/jakevdp/statistics-for-hackers?slide=107)\n",
        "- Ron Zacharski, [A Programmer's Guide to Data Mining, Chapter 5](http://guidetodatamining.com/chapter5/), 10-fold cross validation\n",
        "- Sebastian Raschka, [A Basic Pipeline and Grid Search Setup](https://github.com/rasbt/python-machine-learning-book/blob/master/code/bonus/svm_iris_pipeline_and_gridsearch.ipynb)\n",
        "- Peter Worcester, [A Comparison of Grid Search and Randomized Search Using Scikit Learn](https://blog.usejournal.com/a-comparison-of-grid-search-and-randomized-search-using-scikit-learn-29823179bc85)\n",
        "\n",
        "### Doing\n",
        "- Add your own stretch goals!\n",
        "- Try other [categorical encodings](https://contrib.scikit-learn.org/categorical-encoding/). See the previous assignment notebook for details.\n",
        "- In additon to `RandomizedSearchCV`, scikit-learn has [`GridSearchCV`](https://scikit-learn.org/stable/modules/generated/sklearn.model_selection.GridSearchCV.html). Another library called scikit-optimize has [`BayesSearchCV`](https://scikit-optimize.github.io/notebooks/sklearn-gridsearchcv-replacement.html). Experiment with these alternatives.\n",
        "- _[Introduction to Machine Learning with Python](http://shop.oreilly.com/product/0636920030515.do)_ discusses options for \"Grid-Searching Which Model To Use\" in Chapter 6:\n",
        "\n",
        "> You can even go further in combining GridSearchCV and Pipeline: it is also possible to search over the actual steps being performed in the pipeline (say whether to use StandardScaler or MinMaxScaler). This leads to an even bigger search space and should be considered carefully. Trying all possible solutions is usually not a viable machine learning strategy. However, here is an example comparing a RandomForestClassifier and an SVC ...\n",
        "\n",
        "The example is shown in [the accompanying notebook](https://github.com/amueller/introduction_to_ml_with_python/blob/master/06-algorithm-chains-and-pipelines.ipynb), code cells 35-37. Could you apply this concept to your own pipelines?\n"
      ]
    },
    {
      "cell_type": "markdown",
      "metadata": {
        "id": "NEGdIBigurqy",
        "colab_type": "text"
      },
      "source": [
        "### BONUS: Stacking!\n",
        "\n",
        "Here's some code you can use to \"stack\" multiple submissions, which is another form of ensembling:\n",
        "\n",
        "```python\n",
        "import pandas as pd\n",
        "\n",
        "# Filenames of your submissions you want to ensemble\n",
        "files = ['submission-01.csv', 'submission-02.csv', 'submission-03.csv']\n",
        "\n",
        "target = 'status_group'\n",
        "submissions = (pd.read_csv(file)[[target]] for file in files)\n",
        "ensemble = pd.concat(submissions, axis='columns')\n",
        "majority_vote = ensemble.mode(axis='columns')[0]\n",
        "\n",
        "sample_submission = pd.read_csv('sample_submission.csv')\n",
        "submission = sample_submission.copy()\n",
        "submission[target] = majority_vote\n",
        "submission.to_csv('my-ultimate-ensemble-submission.csv', index=False)\n",
        "```"
      ]
    },
    {
      "cell_type": "code",
      "metadata": {
        "id": "u8DxVcfeurqz",
        "colab_type": "code",
        "colab": {}
      },
      "source": [
        "%%capture\n",
        "import sys\n",
        "\n",
        "# If you're on Colab:\n",
        "if 'google.colab' in sys.modules:\n",
        "    DATA_PATH = 'https://raw.githubusercontent.com/LambdaSchool/DS-Unit-2-Kaggle-Challenge/master/data/'\n",
        "    !pip install category_encoders==2.*\n",
        "\n",
        "# If you're working locally:\n",
        "else:\n",
        "    DATA_PATH = '../data/'"
      ],
      "execution_count": 1,
      "outputs": []
    },
    {
      "cell_type": "code",
      "metadata": {
        "id": "-Mi2XFOgurq2",
        "colab_type": "code",
        "colab": {}
      },
      "source": [
        "import pandas as pd\n",
        "\n",
        "# Merge train_features.csv & train_labels.csv\n",
        "train = pd.merge(pd.read_csv(DATA_PATH+'waterpumps/train_features.csv'), \n",
        "                 pd.read_csv(DATA_PATH+'waterpumps/train_labels.csv'))\n",
        "\n",
        "# Read test_features.csv & sample_submission.csv\n",
        "test = pd.read_csv(DATA_PATH+'waterpumps/test_features.csv')\n",
        "sample_submission = pd.read_csv(DATA_PATH+'waterpumps/sample_submission.csv')"
      ],
      "execution_count": 2,
      "outputs": []
    },
    {
      "cell_type": "code",
      "metadata": {
        "id": "MK6hM-9_urq5",
        "colab_type": "code",
        "colab": {}
      },
      "source": [
        "import numpy as np\n",
        "\n",
        "def wrangle(X):\n",
        "    \"\"\"Wrangle train, validate, and test sets in the same way\"\"\"\n",
        "    \n",
        "    # Prevent SettingWithCopyWarning\n",
        "    X = X.copy()\n",
        "    \n",
        "    # About 3% of the time, latitude has small values near zero,\n",
        "    # outside Tanzania, so we'll treat these values like zero.\n",
        "    X['latitude'] = X['latitude'].replace(-2e-08, 0)\n",
        "    \n",
        "    # When columns have zeros and shouldn't, they are like null values.\n",
        "    # So we will replace the zeros with nulls, and impute missing values later.\n",
        "    # Also create a \"missing indicator\" column, because the fact that\n",
        "    # values are missing may be a predictive signal.\n",
        "    cols_with_zeros = ['longitude', 'latitude', 'construction_year', \n",
        "                       'gps_height', 'population']\n",
        "    for col in cols_with_zeros:\n",
        "        X[col] = X[col].replace(0, np.nan)\n",
        "        X[col+'_MISSING'] = X[col].isnull()\n",
        "            \n",
        "    # Drop duplicate columns\n",
        "    duplicates = ['quantity_group', 'payment_type']\n",
        "    X = X.drop(columns=duplicates)\n",
        "    \n",
        "    # Drop recorded_by (never varies) and id (always varies, random)\n",
        "    unusable_variance = ['recorded_by', 'id']\n",
        "    X = X.drop(columns=unusable_variance)\n",
        "    \n",
        "    # Convert date_recorded to datetime\n",
        "    X['date_recorded'] = pd.to_datetime(X['date_recorded'], infer_datetime_format=True)\n",
        "    \n",
        "    # Extract components from date_recorded, then drop the original column\n",
        "    X['year_recorded'] = X['date_recorded'].dt.year\n",
        "    X['month_recorded'] = X['date_recorded'].dt.month\n",
        "    X['day_recorded'] = X['date_recorded'].dt.day\n",
        "    X = X.drop(columns='date_recorded')\n",
        "    \n",
        "    # Engineer feature: how many years from construction_year to date_recorded\n",
        "    X['years'] = X['year_recorded'] - X['construction_year']\n",
        "    X['years_MISSING'] = X['years'].isnull()\n",
        "    \n",
        "    # return the wrangled dataframe\n",
        "    return X\n",
        "\n",
        "train = wrangle(train)\n",
        "\n",
        "test = wrangle(test)"
      ],
      "execution_count": 3,
      "outputs": []
    },
    {
      "cell_type": "code",
      "metadata": {
        "id": "teXaxX9C2Xwf",
        "colab_type": "code",
        "colab": {}
      },
      "source": [
        "target = 'status_group'\n",
        "features = train.columns.drop(target)\n",
        "X_train = train[features]\n",
        "y_train = train[target]"
      ],
      "execution_count": 4,
      "outputs": []
    },
    {
      "cell_type": "code",
      "metadata": {
        "id": "7cc0JFCL2X2C",
        "colab_type": "code",
        "colab": {
          "base_uri": "https://localhost:8080/",
          "height": 1000
        },
        "outputId": "7d7227aa-771f-4bec-eecc-6c118bff5cc5"
      },
      "source": [
        "import category_encoders as ce\n",
        "from sklearn.ensemble import RandomForestClassifier\n",
        "from sklearn.impute import SimpleImputer\n",
        "from sklearn.pipeline import make_pipeline\n",
        "from scipy.stats import randint, uniform\n",
        "from sklearn.model_selection import GridSearchCV, RandomizedSearchCV\n",
        "\n",
        "pipeline = make_pipeline(\n",
        "    ce.OrdinalEncoder(), \n",
        "    SimpleImputer(), \n",
        "    RandomForestClassifier(random_state=42)\n",
        ")\n",
        "\n",
        "param_distributions = {\n",
        "    'simpleimputer__strategy': ['mean', 'median'], \n",
        "    'randomforestclassifier__n_estimators': randint(50, 300), \n",
        "    'randomforestclassifier__max_depth': [40, None], \n",
        "    'randomforestclassifier__max_features': randint(1, 9),\n",
        "    'randomforestclassifier__criterion': [\"gini\", \"entropy\"],\n",
        "    'randomforestclassifier__min_samples_leaf':[1,2]\n",
        "}\n",
        "search = RandomizedSearchCV(\n",
        "    pipeline, \n",
        "    param_distributions=param_distributions, \n",
        "    cv=6, \n",
        "    scoring='accuracy', \n",
        "    verbose=60, \n",
        "    return_train_score=True,\n",
        "    random_state = 41,\n",
        "    n_jobs=4,\n",
        "    # pre_dispatch=4\n",
        "    \n",
        ")\n",
        "search.fit(X_train, y_train);\n",
        "# Fit on train, score on val\n",
        "# pipeline.fit(X_train, y_train)\n",
        "# print('Validation Accuracy', pipeline.score(X_val, y_val))"
      ],
      "execution_count": 8,
      "outputs": [
        {
          "output_type": "stream",
          "text": [
            "Fitting 6 folds for each of 10 candidates, totalling 60 fits\n",
            "[Parallel(n_jobs=4)]: Using backend LokyBackend with 4 concurrent workers.\n",
            "[Parallel(n_jobs=4)]: Done   1 tasks      | elapsed:   59.6s\n",
            "[Parallel(n_jobs=4)]: Done   2 tasks      | elapsed:  1.0min\n",
            "[Parallel(n_jobs=4)]: Done   3 tasks      | elapsed:  1.0min\n",
            "[Parallel(n_jobs=4)]: Done   4 tasks      | elapsed:  1.0min\n",
            "[Parallel(n_jobs=4)]: Done   5 tasks      | elapsed:  2.0min\n",
            "[Parallel(n_jobs=4)]: Done   6 tasks      | elapsed:  2.0min\n",
            "[Parallel(n_jobs=4)]: Done   7 tasks      | elapsed:  2.1min\n",
            "[Parallel(n_jobs=4)]: Done   8 tasks      | elapsed:  2.1min\n",
            "[Parallel(n_jobs=4)]: Done   9 tasks      | elapsed:  3.0min\n",
            "[Parallel(n_jobs=4)]: Done  10 tasks      | elapsed:  3.0min\n",
            "[Parallel(n_jobs=4)]: Done  11 tasks      | elapsed:  3.1min\n",
            "[Parallel(n_jobs=4)]: Done  12 tasks      | elapsed:  3.1min\n",
            "[Parallel(n_jobs=4)]: Done  13 tasks      | elapsed:  4.3min\n",
            "[Parallel(n_jobs=4)]: Done  14 tasks      | elapsed:  4.3min\n",
            "[Parallel(n_jobs=4)]: Done  15 tasks      | elapsed:  4.4min\n",
            "[Parallel(n_jobs=4)]: Done  16 tasks      | elapsed:  4.5min\n",
            "[Parallel(n_jobs=4)]: Done  17 tasks      | elapsed:  5.6min\n",
            "[Parallel(n_jobs=4)]: Done  18 tasks      | elapsed:  5.6min\n",
            "[Parallel(n_jobs=4)]: Done  19 tasks      | elapsed:  5.7min\n",
            "[Parallel(n_jobs=4)]: Done  20 tasks      | elapsed:  5.8min\n",
            "[Parallel(n_jobs=4)]: Done  21 tasks      | elapsed:  7.0min\n",
            "[Parallel(n_jobs=4)]: Done  22 tasks      | elapsed:  7.0min\n",
            "[Parallel(n_jobs=4)]: Done  23 tasks      | elapsed:  7.1min\n",
            "[Parallel(n_jobs=4)]: Done  24 tasks      | elapsed:  7.1min\n",
            "[Parallel(n_jobs=4)]: Done  25 tasks      | elapsed:  8.4min\n"
          ],
          "name": "stdout"
        },
        {
          "output_type": "stream",
          "text": [
            "/usr/local/lib/python3.6/dist-packages/joblib/externals/loky/process_executor.py:691: UserWarning: A worker stopped while some jobs were given to the executor. This can be caused by a too short worker timeout or by a memory leak.\n",
            "  \"timeout or by a memory leak.\", UserWarning\n"
          ],
          "name": "stderr"
        },
        {
          "output_type": "stream",
          "text": [
            "[Parallel(n_jobs=4)]: Done  26 tasks      | elapsed:  8.5min\n",
            "[Parallel(n_jobs=4)]: Done  27 tasks      | elapsed:  8.5min\n",
            "[Parallel(n_jobs=4)]: Done  28 tasks      | elapsed:  8.6min\n",
            "[Parallel(n_jobs=4)]: Done  29 tasks      | elapsed:  9.9min\n",
            "[Parallel(n_jobs=4)]: Done  30 tasks      | elapsed: 10.0min\n",
            "[Parallel(n_jobs=4)]: Done  31 tasks      | elapsed: 10.8min\n",
            "[Parallel(n_jobs=4)]: Done  32 tasks      | elapsed: 10.8min\n",
            "[Parallel(n_jobs=4)]: Done  33 tasks      | elapsed: 12.2min\n",
            "[Parallel(n_jobs=4)]: Done  34 tasks      | elapsed: 12.2min\n",
            "[Parallel(n_jobs=4)]: Done  35 tasks      | elapsed: 13.0min\n",
            "[Parallel(n_jobs=4)]: Done  36 tasks      | elapsed: 13.1min\n",
            "[Parallel(n_jobs=4)]: Done  37 tasks      | elapsed: 13.6min\n",
            "[Parallel(n_jobs=4)]: Done  38 tasks      | elapsed: 13.7min\n",
            "[Parallel(n_jobs=4)]: Done  39 tasks      | elapsed: 14.4min\n",
            "[Parallel(n_jobs=4)]: Done  40 tasks      | elapsed: 14.5min\n",
            "[Parallel(n_jobs=4)]: Done  41 tasks      | elapsed: 15.0min\n",
            "[Parallel(n_jobs=4)]: Done  42 tasks      | elapsed: 15.0min\n",
            "[Parallel(n_jobs=4)]: Done  43 tasks      | elapsed: 15.2min\n",
            "[Parallel(n_jobs=4)]: Done  44 tasks      | elapsed: 15.3min\n",
            "[Parallel(n_jobs=4)]: Done  45 tasks      | elapsed: 15.8min\n",
            "[Parallel(n_jobs=4)]: Done  46 tasks      | elapsed: 15.9min\n",
            "[Parallel(n_jobs=4)]: Done  47 tasks      | elapsed: 16.1min\n",
            "[Parallel(n_jobs=4)]: Done  48 tasks      | elapsed: 16.1min\n",
            "[Parallel(n_jobs=4)]: Done  49 tasks      | elapsed: 16.7min\n",
            "[Parallel(n_jobs=4)]: Done  50 tasks      | elapsed: 16.8min\n",
            "[Parallel(n_jobs=4)]: Done  51 tasks      | elapsed: 17.0min\n",
            "[Parallel(n_jobs=4)]: Done  52 tasks      | elapsed: 17.1min\n",
            "[Parallel(n_jobs=4)]: Done  53 tasks      | elapsed: 17.6min\n",
            "[Parallel(n_jobs=4)]: Done  55 out of  60 | elapsed: 19.0min remaining:  1.7min\n",
            "[Parallel(n_jobs=4)]: Done  57 out of  60 | elapsed: 19.7min remaining:  1.0min\n",
            "[Parallel(n_jobs=4)]: Done  60 out of  60 | elapsed: 20.4min finished\n"
          ],
          "name": "stdout"
        }
      ]
    },
    {
      "cell_type": "code",
      "metadata": {
        "id": "kbnKTDn-2X_l",
        "colab_type": "code",
        "colab": {
          "base_uri": "https://localhost:8080/",
          "height": 70
        },
        "outputId": "37e6b902-0dc1-48ce-a551-4e56487a9462"
      },
      "source": [
        "print('Best hyperparameters', search.best_params_)\n",
        "print('Cross-validation Accuracy', search.best_score_)"
      ],
      "execution_count": 9,
      "outputs": [
        {
          "output_type": "stream",
          "text": [
            "Best hyperparameters {'randomforestclassifier__criterion': 'gini', 'randomforestclassifier__max_depth': 40, 'randomforestclassifier__max_features': 7, 'randomforestclassifier__min_samples_leaf': 2, 'randomforestclassifier__n_estimators': 155, 'simpleimputer__strategy': 'median'}\n",
            "Cross-validation Accuracy 0.815084175084175\n"
          ],
          "name": "stdout"
        }
      ]
    },
    {
      "cell_type": "code",
      "metadata": {
        "id": "aaBbFG4O2X_K",
        "colab_type": "code",
        "colab": {}
      },
      "source": [
        "X_test = test[features]\n",
        "y_pred = search.predict(X_test)"
      ],
      "execution_count": 10,
      "outputs": []
    },
    {
      "cell_type": "code",
      "metadata": {
        "id": "PvCLW9II2X1i",
        "colab_type": "code",
        "colab": {}
      },
      "source": [
        "submission = sample_submission.copy()\n",
        "submission['status_group'] = y_pred #<--This is for your test data-->\n",
        "submission.to_csv(\"Your_Submission.csv\", index = False)"
      ],
      "execution_count": 11,
      "outputs": []
    }
  ]
}